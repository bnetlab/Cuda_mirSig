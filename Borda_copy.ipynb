{
 "cells": [
  {
   "cell_type": "code",
   "execution_count": null,
   "metadata": {},
   "outputs": [],
   "source": [
    "import pycuda.autoinit\n",
    "import pycuda.driver as cuda\n",
    "from pycuda.compiler import SourceModule\n",
    "import numpy as np\n",
    "import pandas as pd\n",
    "import dask.array as da\n",
    "#from tensorflow.python.client import timeline\n",
    "import dask.dataframe as dd\n",
    "import scipy.stats as st\n",
    "import mirsig.util.utility as ut\n",
    "import mirsig\n",
    "import re\n",
    "\n",
    "from sklearn.metrics import precision_recall_curve, precision_recall_fscore_support, f1_score\n",
    "%matplotlib inline"
   ]
  },
  {
   "cell_type": "code",
   "execution_count": null,
   "metadata": {},
   "outputs": [],
   "source": [
    "# row major\n",
    "# n = numvars\n",
    "# nv = number of voters, algorithms\n",
    "# mats = list of all matricies\n",
    "def borda (mats, n, nv):\n",
    "    \n",
    "    for v in range (nv):\n",
    "        mats[v] = mats[v].argsort(axis = None)\n",
    "        \n",
    "    borda_points = np.zeros((n*n))\n",
    "    for i in range(n*n):\n",
    "        # i is the current rank star between 0-15\n",
    "        # rank pint is i/highest rank possible (n*n-1)\n",
    "        \n",
    "        for v in range (nv):\n",
    "            \n",
    "            borda_points[(mats[v])[i]] = borda_points[(mats[v])[i]] + (i/(n*n-1))\n",
    "        \n",
    "         \n",
    "    return ((borda_points/nv).reshape(n,n))"
   ]
  },
  {
   "cell_type": "markdown",
   "metadata": {},
   "source": [
    "# Test"
   ]
  },
  {
   "cell_type": "code",
   "execution_count": null,
   "metadata": {},
   "outputs": [],
   "source": [
    "# dream_df, column_names = ut.get_data(\"data/dream4/insilico_size100_2_multifactorial.tsv\", sep ='\\t')[0:2]\n",
    "# dream_df, column_names = ut.get_data(\"PD_data_GEO.csv\")[0:2]"
   ]
  },
  {
   "cell_type": "code",
   "execution_count": null,
   "metadata": {},
   "outputs": [],
   "source": [
    "dream_df = pd.read_csv(\"AD_data_GEO.csv\", index_col=0)"
   ]
  },
  {
   "cell_type": "code",
   "execution_count": null,
   "metadata": {},
   "outputs": [],
   "source": [
    "dream_df.head()"
   ]
  },
  {
   "cell_type": "code",
   "execution_count": null,
   "metadata": {},
   "outputs": [],
   "source": [
    "column_names = list(dream_df.index)\n",
    "dream_df = dream_df.T"
   ]
  },
  {
   "cell_type": "code",
   "execution_count": null,
   "metadata": {},
   "outputs": [],
   "source": [
    "column_names"
   ]
  },
  {
   "cell_type": "code",
   "execution_count": null,
   "metadata": {},
   "outputs": [],
   "source": [
    "# run mrnetb befor clr!!\n",
    "mrnetb_res= mirsig.mrnetb_cuda(dream_df)"
   ]
  },
  {
   "cell_type": "code",
   "execution_count": null,
   "metadata": {},
   "outputs": [],
   "source": [
    "np.save('intermidiate/ADmrnetb', mrnetb_res)"
   ]
  },
  {
   "cell_type": "code",
   "execution_count": null,
   "metadata": {},
   "outputs": [],
   "source": [
    "clr_res = mirsig.clr(dream_df.values,128,16)"
   ]
  },
  {
   "cell_type": "code",
   "execution_count": null,
   "metadata": {},
   "outputs": [],
   "source": [
    "np.save('intermidiate/ADclr_res', clr_res)"
   ]
  },
  {
   "cell_type": "code",
   "execution_count": null,
   "metadata": {},
   "outputs": [],
   "source": [
    "genie_res = mirsig.parallel_genie(dream_df)"
   ]
  },
  {
   "cell_type": "code",
   "execution_count": null,
   "metadata": {},
   "outputs": [],
   "source": [
    "np.save('intermidiate/ADgenie', genie_res)"
   ]
  },
  {
   "cell_type": "code",
   "execution_count": null,
   "metadata": {},
   "outputs": [],
   "source": [
    "genie_no_dir = pd.DataFrame(np.maximum(genie_res.values, genie_res.values.T)) "
   ]
  },
  {
   "cell_type": "code",
   "execution_count": null,
   "metadata": {},
   "outputs": [],
   "source": [
    "spearman_res = mirsig.spearman_df(dream_df)"
   ]
  },
  {
   "cell_type": "code",
   "execution_count": null,
   "metadata": {},
   "outputs": [],
   "source": [
    "pearson_res = mirsig.pearson_df(dream_df)"
   ]
  },
  {
   "cell_type": "code",
   "execution_count": null,
   "metadata": {},
   "outputs": [],
   "source": [
    "#mrnetb_res= mirsig.mrnetb_cuda()\n",
    "pearson_res = pearson_res.abs()"
   ]
  },
  {
   "cell_type": "code",
   "execution_count": null,
   "metadata": {},
   "outputs": [],
   "source": [
    "spearman_res = spearman_res.abs()"
   ]
  },
  {
   "cell_type": "code",
   "execution_count": null,
   "metadata": {},
   "outputs": [],
   "source": [
    "kendall_res = mirsig.kendal_taub_cuda(dream_df)"
   ]
  },
  {
   "cell_type": "code",
   "execution_count": null,
   "metadata": {},
   "outputs": [],
   "source": [
    "borda_res = borda([mrnetb_res.values,\n",
    "                   clr_res,\n",
    "                   genie_res.values,\n",
    "                   kendall_res.values,\n",
    "                   spearman_res.values,\n",
    "                   pearson_res.values],\n",
    "                   pearson_res.shape[0], 6)\n",
    "np.fill_diagonal(borda_res, 0)"
   ]
  },
  {
   "cell_type": "code",
   "execution_count": null,
   "metadata": {},
   "outputs": [],
   "source": [
    "np.save('intermidiate/ADdata', borda_res)"
   ]
  },
  {
   "cell_type": "code",
   "execution_count": null,
   "metadata": {},
   "outputs": [],
   "source": [
    "borda_res = np.load('intermidiate/ADdata.npy')"
   ]
  },
  {
   "cell_type": "code",
   "execution_count": null,
   "metadata": {
    "scrolled": true
   },
   "outputs": [],
   "source": [
    "borda_res.shape"
   ]
  },
  {
   "cell_type": "code",
   "execution_count": null,
   "metadata": {},
   "outputs": [],
   "source": [
    "for i in([0.1,0.2,0.3,0.4,0.5,0.6,0.7,0.8,0.9]):\n",
    "    print(np.sum((borda_res > i) & (borda_res<i+0.1)))\n",
    "print(np.sum((borda_res > 0.95) & (borda_res<1)))\n",
    "print(np.sum((borda_res > 0.99) & (borda_res<1))) "
   ]
  },
  {
   "cell_type": "code",
   "execution_count": null,
   "metadata": {},
   "outputs": [],
   "source": [
    "dS = pd.DataFrame (borda_res, columns= column_names, index= column_names )\n",
    "edgeList = dS.stack().reset_index()\n",
    "edgeList=edgeList[edgeList[0]>0.9]\n",
    "edgeList[['level_0','level_1'] ].to_csv('AD_network_edgelist_90.tsv', sep='\\t', header=False, index=False)"
   ]
  },
  {
   "cell_type": "code",
   "execution_count": null,
   "metadata": {},
   "outputs": [],
   "source": [
    "dS = pd.DataFrame (borda_res, columns= column_names, index= column_names )\n",
    "edgeList = dS.stack().reset_index()\n",
    "edgeList=edgeList[edgeList[0]>0.95]\n",
    "edgeList[['level_0','level_1'] ].to_csv('AD_network_edgelist_95.tsv', sep='\\t', header=False, index=False)"
   ]
  },
  {
   "cell_type": "code",
   "execution_count": null,
   "metadata": {},
   "outputs": [],
   "source": [
    "dS = pd.DataFrame (borda_res, columns= column_names, index= column_names )\n",
    "edgeList = dS.stack().reset_index()\n",
    "edgeList=edgeList[edgeList[0]>0.99]\n",
    "edgeList[['level_0','level_1'] ].to_csv('AD_network_edgelist_99.tsv', sep='\\t', header=False, index=False)"
   ]
  },
  {
   "cell_type": "code",
   "execution_count": null,
   "metadata": {},
   "outputs": [],
   "source": []
  }
 ],
 "metadata": {
  "kernelspec": {
   "display_name": "Python 3",
   "language": "python",
   "name": "python3"
  },
  "language_info": {
   "codemirror_mode": {
    "name": "ipython",
    "version": 3
   },
   "file_extension": ".py",
   "mimetype": "text/x-python",
   "name": "python",
   "nbconvert_exporter": "python",
   "pygments_lexer": "ipython3",
   "version": "3.6.4"
  },
  "varInspector": {
   "cols": {
    "lenName": 16,
    "lenType": 16,
    "lenVar": 40
   },
   "kernels_config": {
    "python": {
     "delete_cmd_postfix": "",
     "delete_cmd_prefix": "del ",
     "library": "var_list.py",
     "varRefreshCmd": "print(var_dic_list())"
    },
    "r": {
     "delete_cmd_postfix": ") ",
     "delete_cmd_prefix": "rm(",
     "library": "var_list.r",
     "varRefreshCmd": "cat(var_dic_list()) "
    }
   },
   "types_to_exclude": [
    "module",
    "function",
    "builtin_function_or_method",
    "instance",
    "_Feature"
   ],
   "window_display": false
  }
 },
 "nbformat": 4,
 "nbformat_minor": 2
}
